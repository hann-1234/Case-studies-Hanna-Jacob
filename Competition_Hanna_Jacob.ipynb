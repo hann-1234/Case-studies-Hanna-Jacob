{
 "cells": [
  {
   "cell_type": "code",
   "execution_count": 1,
   "id": "53848d53",
   "metadata": {},
   "outputs": [],
   "source": [
    "import numpy as np\n",
    "import pandas as pd\n",
    "import seaborn as sns\n",
    "import matplotlib.pyplot as plt"
   ]
  },
  {
   "cell_type": "markdown",
   "id": "12ff6f07",
   "metadata": {},
   "source": [
    "# TRAINING DATA- EDA AND PREPROCESSING  "
   ]
  },
  {
   "cell_type": "code",
   "execution_count": 2,
   "id": "e35f8eca",
   "metadata": {},
   "outputs": [
    {
     "data": {
      "text/html": [
       "<div>\n",
       "<style scoped>\n",
       "    .dataframe tbody tr th:only-of-type {\n",
       "        vertical-align: middle;\n",
       "    }\n",
       "\n",
       "    .dataframe tbody tr th {\n",
       "        vertical-align: top;\n",
       "    }\n",
       "\n",
       "    .dataframe thead th {\n",
       "        text-align: right;\n",
       "    }\n",
       "</style>\n",
       "<table border=\"1\" class=\"dataframe\">\n",
       "  <thead>\n",
       "    <tr style=\"text-align: right;\">\n",
       "      <th></th>\n",
       "      <th>Loan_ID</th>\n",
       "      <th>Gender</th>\n",
       "      <th>Married</th>\n",
       "      <th>Dependents</th>\n",
       "      <th>Education</th>\n",
       "      <th>Self_Employed</th>\n",
       "      <th>ApplicantIncome</th>\n",
       "      <th>CoapplicantIncome</th>\n",
       "      <th>LoanAmount</th>\n",
       "      <th>Loan_Amount_Term</th>\n",
       "      <th>Credit_History</th>\n",
       "      <th>Property_Area</th>\n",
       "      <th>Loan_Status</th>\n",
       "    </tr>\n",
       "  </thead>\n",
       "  <tbody>\n",
       "    <tr>\n",
       "      <th>0</th>\n",
       "      <td>LP001002</td>\n",
       "      <td>Male</td>\n",
       "      <td>No</td>\n",
       "      <td>0</td>\n",
       "      <td>Graduate</td>\n",
       "      <td>No</td>\n",
       "      <td>5849</td>\n",
       "      <td>0.0</td>\n",
       "      <td>NaN</td>\n",
       "      <td>360.0</td>\n",
       "      <td>1.0</td>\n",
       "      <td>Urban</td>\n",
       "      <td>Y</td>\n",
       "    </tr>\n",
       "    <tr>\n",
       "      <th>1</th>\n",
       "      <td>LP001003</td>\n",
       "      <td>Male</td>\n",
       "      <td>Yes</td>\n",
       "      <td>1</td>\n",
       "      <td>Graduate</td>\n",
       "      <td>No</td>\n",
       "      <td>4583</td>\n",
       "      <td>1508.0</td>\n",
       "      <td>128.0</td>\n",
       "      <td>360.0</td>\n",
       "      <td>1.0</td>\n",
       "      <td>Rural</td>\n",
       "      <td>N</td>\n",
       "    </tr>\n",
       "    <tr>\n",
       "      <th>2</th>\n",
       "      <td>LP001005</td>\n",
       "      <td>Male</td>\n",
       "      <td>Yes</td>\n",
       "      <td>0</td>\n",
       "      <td>Graduate</td>\n",
       "      <td>Yes</td>\n",
       "      <td>3000</td>\n",
       "      <td>0.0</td>\n",
       "      <td>66.0</td>\n",
       "      <td>360.0</td>\n",
       "      <td>1.0</td>\n",
       "      <td>Urban</td>\n",
       "      <td>Y</td>\n",
       "    </tr>\n",
       "    <tr>\n",
       "      <th>3</th>\n",
       "      <td>LP001006</td>\n",
       "      <td>Male</td>\n",
       "      <td>Yes</td>\n",
       "      <td>0</td>\n",
       "      <td>Not Graduate</td>\n",
       "      <td>No</td>\n",
       "      <td>2583</td>\n",
       "      <td>2358.0</td>\n",
       "      <td>120.0</td>\n",
       "      <td>360.0</td>\n",
       "      <td>1.0</td>\n",
       "      <td>Urban</td>\n",
       "      <td>Y</td>\n",
       "    </tr>\n",
       "    <tr>\n",
       "      <th>4</th>\n",
       "      <td>LP001008</td>\n",
       "      <td>Male</td>\n",
       "      <td>No</td>\n",
       "      <td>0</td>\n",
       "      <td>Graduate</td>\n",
       "      <td>No</td>\n",
       "      <td>6000</td>\n",
       "      <td>0.0</td>\n",
       "      <td>141.0</td>\n",
       "      <td>360.0</td>\n",
       "      <td>1.0</td>\n",
       "      <td>Urban</td>\n",
       "      <td>Y</td>\n",
       "    </tr>\n",
       "  </tbody>\n",
       "</table>\n",
       "</div>"
      ],
      "text/plain": [
       "    Loan_ID Gender Married Dependents     Education Self_Employed  \\\n",
       "0  LP001002   Male      No          0      Graduate            No   \n",
       "1  LP001003   Male     Yes          1      Graduate            No   \n",
       "2  LP001005   Male     Yes          0      Graduate           Yes   \n",
       "3  LP001006   Male     Yes          0  Not Graduate            No   \n",
       "4  LP001008   Male      No          0      Graduate            No   \n",
       "\n",
       "   ApplicantIncome  CoapplicantIncome  LoanAmount  Loan_Amount_Term  \\\n",
       "0             5849                0.0         NaN             360.0   \n",
       "1             4583             1508.0       128.0             360.0   \n",
       "2             3000                0.0        66.0             360.0   \n",
       "3             2583             2358.0       120.0             360.0   \n",
       "4             6000                0.0       141.0             360.0   \n",
       "\n",
       "   Credit_History Property_Area Loan_Status  \n",
       "0             1.0         Urban           Y  \n",
       "1             1.0         Rural           N  \n",
       "2             1.0         Urban           Y  \n",
       "3             1.0         Urban           Y  \n",
       "4             1.0         Urban           Y  "
      ]
     },
     "execution_count": 2,
     "metadata": {},
     "output_type": "execute_result"
    }
   ],
   "source": [
    "train_data=pd.read_csv('train_ctrUa4K.csv')\n",
    "train_data.head()"
   ]
  },
  {
   "cell_type": "code",
   "execution_count": 3,
   "id": "538899ed",
   "metadata": {},
   "outputs": [
    {
     "data": {
      "text/plain": [
       "(614, 13)"
      ]
     },
     "execution_count": 3,
     "metadata": {},
     "output_type": "execute_result"
    }
   ],
   "source": [
    "train_data.shape"
   ]
  },
  {
   "cell_type": "code",
   "execution_count": 4,
   "id": "62f08424",
   "metadata": {},
   "outputs": [
    {
     "name": "stdout",
     "output_type": "stream",
     "text": [
      "<class 'pandas.core.frame.DataFrame'>\n",
      "RangeIndex: 614 entries, 0 to 613\n",
      "Data columns (total 13 columns):\n",
      " #   Column             Non-Null Count  Dtype  \n",
      "---  ------             --------------  -----  \n",
      " 0   Loan_ID            614 non-null    object \n",
      " 1   Gender             601 non-null    object \n",
      " 2   Married            611 non-null    object \n",
      " 3   Dependents         599 non-null    object \n",
      " 4   Education          614 non-null    object \n",
      " 5   Self_Employed      582 non-null    object \n",
      " 6   ApplicantIncome    614 non-null    int64  \n",
      " 7   CoapplicantIncome  614 non-null    float64\n",
      " 8   LoanAmount         592 non-null    float64\n",
      " 9   Loan_Amount_Term   600 non-null    float64\n",
      " 10  Credit_History     564 non-null    float64\n",
      " 11  Property_Area      614 non-null    object \n",
      " 12  Loan_Status        614 non-null    object \n",
      "dtypes: float64(4), int64(1), object(8)\n",
      "memory usage: 62.5+ KB\n"
     ]
    }
   ],
   "source": [
    "train_data.info()"
   ]
  },
  {
   "cell_type": "code",
   "execution_count": 5,
   "id": "c7cfb87c",
   "metadata": {},
   "outputs": [
    {
     "data": {
      "text/html": [
       "<div>\n",
       "<style scoped>\n",
       "    .dataframe tbody tr th:only-of-type {\n",
       "        vertical-align: middle;\n",
       "    }\n",
       "\n",
       "    .dataframe tbody tr th {\n",
       "        vertical-align: top;\n",
       "    }\n",
       "\n",
       "    .dataframe thead th {\n",
       "        text-align: right;\n",
       "    }\n",
       "</style>\n",
       "<table border=\"1\" class=\"dataframe\">\n",
       "  <thead>\n",
       "    <tr style=\"text-align: right;\">\n",
       "      <th></th>\n",
       "      <th>ApplicantIncome</th>\n",
       "      <th>CoapplicantIncome</th>\n",
       "      <th>LoanAmount</th>\n",
       "      <th>Loan_Amount_Term</th>\n",
       "      <th>Credit_History</th>\n",
       "    </tr>\n",
       "  </thead>\n",
       "  <tbody>\n",
       "    <tr>\n",
       "      <th>count</th>\n",
       "      <td>614.000000</td>\n",
       "      <td>614.000000</td>\n",
       "      <td>592.000000</td>\n",
       "      <td>600.00000</td>\n",
       "      <td>564.000000</td>\n",
       "    </tr>\n",
       "    <tr>\n",
       "      <th>mean</th>\n",
       "      <td>5403.459283</td>\n",
       "      <td>1621.245798</td>\n",
       "      <td>146.412162</td>\n",
       "      <td>342.00000</td>\n",
       "      <td>0.842199</td>\n",
       "    </tr>\n",
       "    <tr>\n",
       "      <th>std</th>\n",
       "      <td>6109.041673</td>\n",
       "      <td>2926.248369</td>\n",
       "      <td>85.587325</td>\n",
       "      <td>65.12041</td>\n",
       "      <td>0.364878</td>\n",
       "    </tr>\n",
       "    <tr>\n",
       "      <th>min</th>\n",
       "      <td>150.000000</td>\n",
       "      <td>0.000000</td>\n",
       "      <td>9.000000</td>\n",
       "      <td>12.00000</td>\n",
       "      <td>0.000000</td>\n",
       "    </tr>\n",
       "    <tr>\n",
       "      <th>25%</th>\n",
       "      <td>2877.500000</td>\n",
       "      <td>0.000000</td>\n",
       "      <td>100.000000</td>\n",
       "      <td>360.00000</td>\n",
       "      <td>1.000000</td>\n",
       "    </tr>\n",
       "    <tr>\n",
       "      <th>50%</th>\n",
       "      <td>3812.500000</td>\n",
       "      <td>1188.500000</td>\n",
       "      <td>128.000000</td>\n",
       "      <td>360.00000</td>\n",
       "      <td>1.000000</td>\n",
       "    </tr>\n",
       "    <tr>\n",
       "      <th>75%</th>\n",
       "      <td>5795.000000</td>\n",
       "      <td>2297.250000</td>\n",
       "      <td>168.000000</td>\n",
       "      <td>360.00000</td>\n",
       "      <td>1.000000</td>\n",
       "    </tr>\n",
       "    <tr>\n",
       "      <th>max</th>\n",
       "      <td>81000.000000</td>\n",
       "      <td>41667.000000</td>\n",
       "      <td>700.000000</td>\n",
       "      <td>480.00000</td>\n",
       "      <td>1.000000</td>\n",
       "    </tr>\n",
       "  </tbody>\n",
       "</table>\n",
       "</div>"
      ],
      "text/plain": [
       "       ApplicantIncome  CoapplicantIncome  LoanAmount  Loan_Amount_Term  \\\n",
       "count       614.000000         614.000000  592.000000         600.00000   \n",
       "mean       5403.459283        1621.245798  146.412162         342.00000   \n",
       "std        6109.041673        2926.248369   85.587325          65.12041   \n",
       "min         150.000000           0.000000    9.000000          12.00000   \n",
       "25%        2877.500000           0.000000  100.000000         360.00000   \n",
       "50%        3812.500000        1188.500000  128.000000         360.00000   \n",
       "75%        5795.000000        2297.250000  168.000000         360.00000   \n",
       "max       81000.000000       41667.000000  700.000000         480.00000   \n",
       "\n",
       "       Credit_History  \n",
       "count      564.000000  \n",
       "mean         0.842199  \n",
       "std          0.364878  \n",
       "min          0.000000  \n",
       "25%          1.000000  \n",
       "50%          1.000000  \n",
       "75%          1.000000  \n",
       "max          1.000000  "
      ]
     },
     "execution_count": 5,
     "metadata": {},
     "output_type": "execute_result"
    }
   ],
   "source": [
    "train_data.describe()"
   ]
  },
  {
   "cell_type": "code",
   "execution_count": 6,
   "id": "2a97cc02",
   "metadata": {},
   "outputs": [
    {
     "data": {
      "text/plain": [
       "Loan_ID               0\n",
       "Gender               13\n",
       "Married               3\n",
       "Dependents           15\n",
       "Education             0\n",
       "Self_Employed        32\n",
       "ApplicantIncome       0\n",
       "CoapplicantIncome     0\n",
       "LoanAmount           22\n",
       "Loan_Amount_Term     14\n",
       "Credit_History       50\n",
       "Property_Area         0\n",
       "Loan_Status           0\n",
       "dtype: int64"
      ]
     },
     "execution_count": 6,
     "metadata": {},
     "output_type": "execute_result"
    }
   ],
   "source": [
    "#Removing the null values\n",
    "\n",
    "train_data.isna().sum()"
   ]
  },
  {
   "cell_type": "code",
   "execution_count": 7,
   "id": "7b29d59d",
   "metadata": {},
   "outputs": [
    {
     "data": {
      "image/png": "[encoded data removed]",
      "text/plain": [
       "<Figure size 1000x800 with 6 Axes>"
      ]
     },
     "metadata": {},
     "output_type": "display_data"
    }
   ],
   "source": [
    "#Plotting to find the distribution\n",
    "\n",
    "freqgraph=train_data.select_dtypes(include=['float64','int64'])\n",
    "freqgraph.hist(figsize=(10,8))\n",
    "plt.show()"
   ]
  },
  {
   "cell_type": "code",
   "execution_count": 8,
   "id": "807a6e56",
   "metadata": {},
   "outputs": [],
   "source": [
    "#The data we got here is skewed data.So we have to replace the null values with the median value. The null values are identified in columns Gender,Married,\n",
    "#Dependents,Self_Employed,LoanAmount,Loan_Amount_Term,Credit_History."
   ]
  },
  {
   "cell_type": "code",
   "execution_count": 9,
   "id": "5142e812",
   "metadata": {},
   "outputs": [
    {
     "data": {
      "text/plain": [
       "array(['0', '1', '2', '3+', nan], dtype=object)"
      ]
     },
     "execution_count": 9,
     "metadata": {},
     "output_type": "execute_result"
    }
   ],
   "source": [
    "train_data['Dependents'].unique()"
   ]
  },
  {
   "cell_type": "code",
   "execution_count": 10,
   "id": "745f772d",
   "metadata": {},
   "outputs": [
    {
     "name": "stderr",
     "output_type": "stream",
     "text": [
      "C:\\Users\\NOHIN JACOB\\AppData\\Local\\Temp\\ipykernel_8684\\2350620113.py:3: SettingWithCopyWarning: \n",
      "A value is trying to be set on a copy of a slice from a DataFrame\n",
      "\n",
      "See the caveats in the documentation: https://pandas.pydata.org/pandas-docs/stable/user_guide/indexing.html#returning-a-view-versus-a-copy\n",
      "  train_data['Dependents'].loc[i]='3'\n"
     ]
    },
    {
     "data": {
      "text/plain": [
       "array(['0', '1', '2', '3', nan], dtype=object)"
      ]
     },
     "execution_count": 10,
     "metadata": {},
     "output_type": "execute_result"
    }
   ],
   "source": [
    "ind1=np.where(train_data['Dependents']=='3+')\n",
    "for i in ind1:\n",
    "    train_data['Dependents'].loc[i]='3'\n",
    "        \n",
    "train_data['Dependents'].unique()\n",
    "       "
   ]
  },
  {
   "cell_type": "code",
   "execution_count": 11,
   "id": "b87b4197",
   "metadata": {},
   "outputs": [
    {
     "data": {
      "text/plain": [
       "array(['0', '1', '2', '3', 0.0], dtype=object)"
      ]
     },
     "execution_count": 11,
     "metadata": {},
     "output_type": "execute_result"
    }
   ],
   "source": [
    "train_data['Dependents']=train_data['Dependents'].fillna(train_data['Dependents'].median())\n",
    "train_data['Dependents'].unique()"
   ]
  },
  {
   "cell_type": "code",
   "execution_count": 12,
   "id": "6f0d57c0",
   "metadata": {},
   "outputs": [],
   "source": [
    "#Changing the data type to int64 for 'Dependents' column\n",
    "train_data['Dependents']=train_data['Dependents'].astype('int64')"
   ]
  },
  {
   "cell_type": "code",
   "execution_count": 13,
   "id": "6031ac2d",
   "metadata": {},
   "outputs": [
    {
     "data": {
      "text/plain": [
       "Loan_ID               0\n",
       "Gender               13\n",
       "Married               3\n",
       "Dependents            0\n",
       "Education             0\n",
       "Self_Employed        32\n",
       "ApplicantIncome       0\n",
       "CoapplicantIncome     0\n",
       "LoanAmount           22\n",
       "Loan_Amount_Term     14\n",
       "Credit_History       50\n",
       "Property_Area         0\n",
       "Loan_Status           0\n",
       "dtype: int64"
      ]
     },
     "execution_count": 13,
     "metadata": {},
     "output_type": "execute_result"
    }
   ],
   "source": [
    "train_data.isna().sum()"
   ]
  },
  {
   "cell_type": "code",
   "execution_count": 14,
   "id": "457a9437",
   "metadata": {},
   "outputs": [],
   "source": [
    "for col in ('LoanAmount','Loan_Amount_Term','Credit_History'):\n",
    "    train_data[col]=train_data[col].fillna(train_data[col].median())"
   ]
  },
  {
   "cell_type": "code",
   "execution_count": 15,
   "id": "094b4923",
   "metadata": {},
   "outputs": [
    {
     "data": {
      "text/plain": [
       "Loan_ID               0\n",
       "Gender               13\n",
       "Married               3\n",
       "Dependents            0\n",
       "Education             0\n",
       "Self_Employed        32\n",
       "ApplicantIncome       0\n",
       "CoapplicantIncome     0\n",
       "LoanAmount            0\n",
       "Loan_Amount_Term      0\n",
       "Credit_History        0\n",
       "Property_Area         0\n",
       "Loan_Status           0\n",
       "dtype: int64"
      ]
     },
     "execution_count": 15,
     "metadata": {},
     "output_type": "execute_result"
    }
   ],
   "source": [
    "train_data.isna().sum()"
   ]
  },
  {
   "cell_type": "code",
   "execution_count": 16,
   "id": "c2f63cc5",
   "metadata": {},
   "outputs": [],
   "source": [
    "for col in ('Gender','Married','Self_Employed'):\n",
    "    train_data[col]=train_data[col].fillna(train_data[col].mode)"
   ]
  },
  {
   "cell_type": "code",
   "execution_count": 17,
   "id": "c5f24941",
   "metadata": {},
   "outputs": [
    {
     "data": {
      "text/plain": [
       "Loan_ID              0\n",
       "Gender               0\n",
       "Married              0\n",
       "Dependents           0\n",
       "Education            0\n",
       "Self_Employed        0\n",
       "ApplicantIncome      0\n",
       "CoapplicantIncome    0\n",
       "LoanAmount           0\n",
       "Loan_Amount_Term     0\n",
       "Credit_History       0\n",
       "Property_Area        0\n",
       "Loan_Status          0\n",
       "dtype: int64"
      ]
     },
     "execution_count": 17,
     "metadata": {},
     "output_type": "execute_result"
    }
   ],
   "source": [
    "train_data.isna().sum()"
   ]
  },
  {
   "cell_type": "code",
   "execution_count": 18,
   "id": "621b4302",
   "metadata": {},
   "outputs": [
    {
     "data": {
      "text/html": [
       "<div>\n",
       "<style scoped>\n",
       "    .dataframe tbody tr th:only-of-type {\n",
       "        vertical-align: middle;\n",
       "    }\n",
       "\n",
       "    .dataframe tbody tr th {\n",
       "        vertical-align: top;\n",
       "    }\n",
       "\n",
       "    .dataframe thead th {\n",
       "        text-align: right;\n",
       "    }\n",
       "</style>\n",
       "<table border=\"1\" class=\"dataframe\">\n",
       "  <thead>\n",
       "    <tr style=\"text-align: right;\">\n",
       "      <th></th>\n",
       "      <th>Loan_ID</th>\n",
       "      <th>Gender</th>\n",
       "      <th>Married</th>\n",
       "      <th>Dependents</th>\n",
       "      <th>Education</th>\n",
       "      <th>Self_Employed</th>\n",
       "      <th>ApplicantIncome</th>\n",
       "      <th>CoapplicantIncome</th>\n",
       "      <th>LoanAmount</th>\n",
       "      <th>Loan_Amount_Term</th>\n",
       "      <th>Credit_History</th>\n",
       "      <th>Property_Area</th>\n",
       "      <th>Loan_Status</th>\n",
       "    </tr>\n",
       "  </thead>\n",
       "  <tbody>\n",
       "    <tr>\n",
       "      <th>0</th>\n",
       "      <td>LP001002</td>\n",
       "      <td>Male</td>\n",
       "      <td>No</td>\n",
       "      <td>0</td>\n",
       "      <td>Graduate</td>\n",
       "      <td>No</td>\n",
       "      <td>5849</td>\n",
       "      <td>0.0</td>\n",
       "      <td>128.0</td>\n",
       "      <td>360.0</td>\n",
       "      <td>1.0</td>\n",
       "      <td>Urban</td>\n",
       "      <td>Y</td>\n",
       "    </tr>\n",
       "    <tr>\n",
       "      <th>1</th>\n",
       "      <td>LP001003</td>\n",
       "      <td>Male</td>\n",
       "      <td>Yes</td>\n",
       "      <td>1</td>\n",
       "      <td>Graduate</td>\n",
       "      <td>No</td>\n",
       "      <td>4583</td>\n",
       "      <td>1508.0</td>\n",
       "      <td>128.0</td>\n",
       "      <td>360.0</td>\n",
       "      <td>1.0</td>\n",
       "      <td>Rural</td>\n",
       "      <td>N</td>\n",
       "    </tr>\n",
       "    <tr>\n",
       "      <th>2</th>\n",
       "      <td>LP001005</td>\n",
       "      <td>Male</td>\n",
       "      <td>Yes</td>\n",
       "      <td>0</td>\n",
       "      <td>Graduate</td>\n",
       "      <td>Yes</td>\n",
       "      <td>3000</td>\n",
       "      <td>0.0</td>\n",
       "      <td>66.0</td>\n",
       "      <td>360.0</td>\n",
       "      <td>1.0</td>\n",
       "      <td>Urban</td>\n",
       "      <td>Y</td>\n",
       "    </tr>\n",
       "    <tr>\n",
       "      <th>3</th>\n",
       "      <td>LP001006</td>\n",
       "      <td>Male</td>\n",
       "      <td>Yes</td>\n",
       "      <td>0</td>\n",
       "      <td>Not Graduate</td>\n",
       "      <td>No</td>\n",
       "      <td>2583</td>\n",
       "      <td>2358.0</td>\n",
       "      <td>120.0</td>\n",
       "      <td>360.0</td>\n",
       "      <td>1.0</td>\n",
       "      <td>Urban</td>\n",
       "      <td>Y</td>\n",
       "    </tr>\n",
       "    <tr>\n",
       "      <th>4</th>\n",
       "      <td>LP001008</td>\n",
       "      <td>Male</td>\n",
       "      <td>No</td>\n",
       "      <td>0</td>\n",
       "      <td>Graduate</td>\n",
       "      <td>No</td>\n",
       "      <td>6000</td>\n",
       "      <td>0.0</td>\n",
       "      <td>141.0</td>\n",
       "      <td>360.0</td>\n",
       "      <td>1.0</td>\n",
       "      <td>Urban</td>\n",
       "      <td>Y</td>\n",
       "    </tr>\n",
       "  </tbody>\n",
       "</table>\n",
       "</div>"
      ],
      "text/plain": [
       "    Loan_ID Gender Married  Dependents     Education Self_Employed  \\\n",
       "0  LP001002   Male      No           0      Graduate            No   \n",
       "1  LP001003   Male     Yes           1      Graduate            No   \n",
       "2  LP001005   Male     Yes           0      Graduate           Yes   \n",
       "3  LP001006   Male     Yes           0  Not Graduate            No   \n",
       "4  LP001008   Male      No           0      Graduate            No   \n",
       "\n",
       "   ApplicantIncome  CoapplicantIncome  LoanAmount  Loan_Amount_Term  \\\n",
       "0             5849                0.0       128.0             360.0   \n",
       "1             4583             1508.0       128.0             360.0   \n",
       "2             3000                0.0        66.0             360.0   \n",
       "3             2583             2358.0       120.0             360.0   \n",
       "4             6000                0.0       141.0             360.0   \n",
       "\n",
       "   Credit_History Property_Area Loan_Status  \n",
       "0             1.0         Urban           Y  \n",
       "1             1.0         Rural           N  \n",
       "2             1.0         Urban           Y  \n",
       "3             1.0         Urban           Y  \n",
       "4             1.0         Urban           Y  "
      ]
     },
     "execution_count": 18,
     "metadata": {},
     "output_type": "execute_result"
    }
   ],
   "source": [
    "train_data.head()"
   ]
  },
  {
   "cell_type": "code",
   "execution_count": 19,
   "id": "fbf4fc12",
   "metadata": {},
   "outputs": [
    {
     "name": "stdout",
     "output_type": "stream",
     "text": [
      "<class 'pandas.core.frame.DataFrame'>\n",
      "RangeIndex: 614 entries, 0 to 613\n",
      "Data columns (total 13 columns):\n",
      " #   Column             Non-Null Count  Dtype  \n",
      "---  ------             --------------  -----  \n",
      " 0   Loan_ID            614 non-null    object \n",
      " 1   Gender             614 non-null    object \n",
      " 2   Married            614 non-null    object \n",
      " 3   Dependents         614 non-null    int64  \n",
      " 4   Education          614 non-null    object \n",
      " 5   Self_Employed      614 non-null    object \n",
      " 6   ApplicantIncome    614 non-null    int64  \n",
      " 7   CoapplicantIncome  614 non-null    float64\n",
      " 8   LoanAmount         614 non-null    float64\n",
      " 9   Loan_Amount_Term   614 non-null    float64\n",
      " 10  Credit_History     614 non-null    float64\n",
      " 11  Property_Area      614 non-null    object \n",
      " 12  Loan_Status        614 non-null    object \n",
      "dtypes: float64(4), int64(2), object(7)\n",
      "memory usage: 62.5+ KB\n"
     ]
    }
   ],
   "source": [
    "train_data.info()"
   ]
  },
  {
   "cell_type": "markdown",
   "id": "5d45cc8b",
   "metadata": {},
   "source": [
    "# Outlier detection"
   ]
  },
  {
   "cell_type": "code",
   "execution_count": 20,
   "id": "cfe370bf",
   "metadata": {},
   "outputs": [
    {
     "data": {
      "text/plain": [
       "(0.0, 0.0, 1.0)"
      ]
     },
     "execution_count": 20,
     "metadata": {},
     "output_type": "execute_result"
    }
   ],
   "source": [
    "# Outlier detection in columns 'Dependents','ApplicantIncome','CoapplicantIncome','LoanAmount','Loan_Amount_Term','Credit_History'\n",
    "Q1=np.percentile(train_data['Dependents'],25,interpolation='midpoint')\n",
    "Q2=np.percentile(train_data['Dependents'],50,interpolation='midpoint')\n",
    "Q3=np.percentile(train_data['Dependents'],75,interpolation='midpoint')\n",
    "Q1,Q2,Q3"
   ]
  },
  {
   "cell_type": "code",
   "execution_count": 21,
   "id": "c1f7781a",
   "metadata": {},
   "outputs": [
    {
     "name": "stdout",
     "output_type": "stream",
     "text": [
      "0.0\n"
     ]
    }
   ],
   "source": [
    "print(train_data['Dependents'].median())"
   ]
  },
  {
   "cell_type": "code",
   "execution_count": 22,
   "id": "2387c334",
   "metadata": {},
   "outputs": [
    {
     "name": "stdout",
     "output_type": "stream",
     "text": [
      "Int64Index([], dtype='int64')\n",
      "Int64Index([  7,  34,  61,  68,  73,  74,  78,  79, 109, 126, 135, 155, 171,\n",
      "            172, 177, 202, 211, 213, 215, 255, 257, 259, 267, 295, 321, 324,\n",
      "            338, 340, 343, 352, 359, 376, 390, 391, 409, 442, 461, 466, 472,\n",
      "            481, 515, 522, 531, 539, 557, 567, 574, 592, 600, 602, 610],\n",
      "           dtype='int64')\n"
     ]
    }
   ],
   "source": [
    "IQR=Q3-Q1\n",
    "\n",
    "low_limit=Q1-1.5*IQR\n",
    "up_limit=Q3+1.5*IQR\n",
    "\n",
    "ind1=train_data['Dependents']<low_limit\n",
    "print(train_data['Dependents'].loc[ind1].index)\n",
    "\n",
    "ind2=train_data['Dependents']>up_limit\n",
    "print(train_data['Dependents'].loc[ind2].index)"
   ]
  },
  {
   "cell_type": "code",
   "execution_count": 23,
   "id": "34c6f407",
   "metadata": {},
   "outputs": [
    {
     "name": "stdout",
     "output_type": "stream",
     "text": [
      "Int64Index([], dtype='int64')\n"
     ]
    },
    {
     "name": "stderr",
     "output_type": "stream",
     "text": [
      "C:\\Users\\NOHIN JACOB\\AppData\\Local\\Temp\\ipykernel_8684\\2751080025.py:3: SettingWithCopyWarning: \n",
      "A value is trying to be set on a copy of a slice from a DataFrame\n",
      "\n",
      "See the caveats in the documentation: https://pandas.pydata.org/pandas-docs/stable/user_guide/indexing.html#returning-a-view-versus-a-copy\n",
      "  train_data['Dependents'].loc[i]=0.0\n"
     ]
    }
   ],
   "source": [
    "#Outlier replaced with median:\n",
    "for i in train_data['Dependents'].loc[ind2].index:\n",
    "     train_data['Dependents'].loc[i]=0.0\n",
    "        \n",
    "ind2=train_data['Dependents']>up_limit\n",
    "print(train_data['Dependents'].loc[ind2].index)\n"
   ]
  },
  {
   "cell_type": "code",
   "execution_count": 24,
   "id": "2247a4b6",
   "metadata": {},
   "outputs": [
    {
     "name": "stdout",
     "output_type": "stream",
     "text": [
      "3812.5\n",
      "Int64Index([], dtype='int64')\n",
      "Int64Index([  9,  34,  54,  67, 102, 106, 115, 119, 126, 128, 130, 138, 144,\n",
      "            146, 155, 171, 183, 185, 191, 199, 254, 258, 271, 278, 284, 308,\n",
      "            324, 333, 369, 370, 409, 424, 432, 438, 443, 467, 475, 478, 483,\n",
      "            487, 493, 506, 509, 525, 533, 534, 561, 572, 594, 604],\n",
      "           dtype='int64')\n"
     ]
    }
   ],
   "source": [
    "Q1=np.percentile(train_data['ApplicantIncome'],25,interpolation='midpoint')\n",
    "Q2=np.percentile(train_data['ApplicantIncome'],50,interpolation='midpoint')\n",
    "Q3=np.percentile(train_data['ApplicantIncome'],75,interpolation='midpoint')\n",
    "Q1,Q2,Q3\n",
    "\n",
    "print(train_data['ApplicantIncome'].median())\n",
    "\n",
    "IQR=Q3-Q1\n",
    "\n",
    "low_limit=Q1-1.5*IQR\n",
    "up_limit=Q3+1.5*IQR\n",
    "\n",
    "ind1=train_data['ApplicantIncome']<low_limit\n",
    "print(train_data['ApplicantIncome'].loc[ind1].index)\n",
    "\n",
    "ind2=train_data['ApplicantIncome']>up_limit\n",
    "print(train_data['ApplicantIncome'].loc[ind2].index)\n"
   ]
  },
  {
   "cell_type": "code",
   "execution_count": 25,
   "id": "c4a87242",
   "metadata": {},
   "outputs": [
    {
     "name": "stdout",
     "output_type": "stream",
     "text": [
      "Int64Index([], dtype='int64')\n"
     ]
    },
    {
     "name": "stderr",
     "output_type": "stream",
     "text": [
      "C:\\Users\\NOHIN JACOB\\AppData\\Local\\Temp\\ipykernel_8684\\1878930504.py:3: SettingWithCopyWarning: \n",
      "A value is trying to be set on a copy of a slice from a DataFrame\n",
      "\n",
      "See the caveats in the documentation: https://pandas.pydata.org/pandas-docs/stable/user_guide/indexing.html#returning-a-view-versus-a-copy\n",
      "  train_data['ApplicantIncome'].loc[i]=3812.5\n"
     ]
    }
   ],
   "source": [
    "#Outlier replaced with median\n",
    "for i in train_data['ApplicantIncome'].loc[ind2].index:\n",
    "     train_data['ApplicantIncome'].loc[i]=3812.5\n",
    "        \n",
    "ind2=train_data['ApplicantIncome']>up_limit\n",
    "print(train_data['ApplicantIncome'].loc[ind2].index)"
   ]
  },
  {
   "cell_type": "code",
   "execution_count": 26,
   "id": "f36e2287",
   "metadata": {},
   "outputs": [
    {
     "name": "stdout",
     "output_type": "stream",
     "text": [
      "1188.5\n",
      "Int64Index([], dtype='int64')\n",
      "Int64Index([  9,  12,  38, 122, 135, 177, 180, 253, 349, 372, 402, 417, 444,\n",
      "            506, 513, 523, 581, 600],\n",
      "           dtype='int64')\n"
     ]
    }
   ],
   "source": [
    "Q1=np.percentile(train_data['CoapplicantIncome'],25,interpolation='midpoint')\n",
    "Q2=np.percentile(train_data['CoapplicantIncome'],50,interpolation='midpoint')\n",
    "Q3=np.percentile(train_data['CoapplicantIncome'],75,interpolation='midpoint')\n",
    "Q1,Q2,Q3\n",
    "\n",
    "print(train_data['CoapplicantIncome'].median())\n",
    "\n",
    "IQR=Q3-Q1\n",
    "\n",
    "low_limit=Q1-1.5*IQR\n",
    "up_limit=Q3+1.5*IQR\n",
    "\n",
    "ind1=train_data['CoapplicantIncome']<low_limit\n",
    "print(train_data['CoapplicantIncome'].loc[ind1].index)\n",
    "\n",
    "ind2=train_data['CoapplicantIncome']>up_limit\n",
    "print(train_data['CoapplicantIncome'].loc[ind2].index)"
   ]
  },
  {
   "cell_type": "code",
   "execution_count": 27,
   "id": "7e11e664",
   "metadata": {},
   "outputs": [
    {
     "name": "stdout",
     "output_type": "stream",
     "text": [
      "Int64Index([], dtype='int64')\n"
     ]
    },
    {
     "name": "stderr",
     "output_type": "stream",
     "text": [
      "C:\\Users\\NOHIN JACOB\\AppData\\Local\\Temp\\ipykernel_8684\\3105209708.py:3: SettingWithCopyWarning: \n",
      "A value is trying to be set on a copy of a slice from a DataFrame\n",
      "\n",
      "See the caveats in the documentation: https://pandas.pydata.org/pandas-docs/stable/user_guide/indexing.html#returning-a-view-versus-a-copy\n",
      "  train_data['CoapplicantIncome'].loc[i]=1188.5\n"
     ]
    }
   ],
   "source": [
    "#Outlier replaced with median\n",
    "for i in train_data['CoapplicantIncome'].loc[ind2].index:\n",
    "     train_data['CoapplicantIncome'].loc[i]=1188.5\n",
    "        \n",
    "ind2=train_data['CoapplicantIncome']>up_limit\n",
    "print(train_data['CoapplicantIncome'].loc[ind2].index)"
   ]
  },
  {
   "cell_type": "code",
   "execution_count": 28,
   "id": "3f1a8b36",
   "metadata": {},
   "outputs": [
    {
     "name": "stdout",
     "output_type": "stream",
     "text": [
      "128.0\n",
      "Int64Index([], dtype='int64')\n",
      "Int64Index([  5,   9,  21,  34,  54,  67,  83, 126, 130, 135, 155, 161, 171,\n",
      "            177, 233, 253, 258, 260, 278, 308, 324, 325, 333, 351, 369, 372,\n",
      "            381, 391, 409, 432, 487, 506, 514, 523, 525, 536, 561, 572, 592,\n",
      "            600, 604],\n",
      "           dtype='int64')\n"
     ]
    }
   ],
   "source": [
    "Q1=np.percentile(train_data['LoanAmount'],25,interpolation='midpoint')\n",
    "Q2=np.percentile(train_data['LoanAmount'],50,interpolation='midpoint')\n",
    "Q3=np.percentile(train_data['LoanAmount'],75,interpolation='midpoint')\n",
    "Q1,Q2,Q3\n",
    "\n",
    "print(train_data['LoanAmount'].median())\n",
    "\n",
    "IQR=Q3-Q1\n",
    "\n",
    "low_limit=Q1-1.5*IQR\n",
    "up_limit=Q3+1.5*IQR\n",
    "\n",
    "ind1=train_data['LoanAmount']<low_limit\n",
    "print(train_data['LoanAmount'].loc[ind1].index)\n",
    "\n",
    "ind2=train_data['LoanAmount']>up_limit\n",
    "print(train_data['LoanAmount'].loc[ind2].index)"
   ]
  },
  {
   "cell_type": "code",
   "execution_count": 29,
   "id": "054cea51",
   "metadata": {},
   "outputs": [
    {
     "name": "stdout",
     "output_type": "stream",
     "text": [
      "Int64Index([], dtype='int64')\n"
     ]
    },
    {
     "name": "stderr",
     "output_type": "stream",
     "text": [
      "C:\\Users\\NOHIN JACOB\\AppData\\Local\\Temp\\ipykernel_8684\\3434594067.py:3: SettingWithCopyWarning: \n",
      "A value is trying to be set on a copy of a slice from a DataFrame\n",
      "\n",
      "See the caveats in the documentation: https://pandas.pydata.org/pandas-docs/stable/user_guide/indexing.html#returning-a-view-versus-a-copy\n",
      "  train_data['LoanAmount'].loc[i]=128.0\n"
     ]
    }
   ],
   "source": [
    "#Outlier replaced with median\n",
    "for i in train_data['LoanAmount'].loc[ind2].index:\n",
    "     train_data['LoanAmount'].loc[i]=128.0\n",
    "        \n",
    "ind2=train_data['LoanAmount']>up_limit\n",
    "print(train_data['LoanAmount'].loc[ind2].index)"
   ]
  },
  {
   "cell_type": "code",
   "execution_count": 30,
   "id": "7a3c0ffd",
   "metadata": {},
   "outputs": [
    {
     "name": "stdout",
     "output_type": "stream",
     "text": [
      "360.0\n",
      "Int64Index([ 14,  16,  62,  66,  68,  72,  78,  84,  91,  94,  98, 100, 115,\n",
      "            128, 133, 142, 144, 155, 164, 171, 172, 182, 186, 189, 202, 231,\n",
      "            241, 242, 245, 247, 253, 262, 282, 286, 313, 315, 333, 334, 355,\n",
      "            363, 372, 373, 375, 385, 393, 400, 401, 408, 429, 435, 444, 451,\n",
      "            453, 461, 466, 471, 476, 495, 497, 504, 513, 539, 540, 546, 554,\n",
      "            575, 585, 590, 591, 593, 600, 605, 610],\n",
      "           dtype='int64')\n",
      "Int64Index([75, 109, 130, 168, 179, 228, 248, 293, 298, 358, 366, 378, 500,\n",
      "            516, 573],\n",
      "           dtype='int64')\n"
     ]
    }
   ],
   "source": [
    "Q1=np.percentile(train_data['Loan_Amount_Term'],25,interpolation='midpoint')\n",
    "Q2=np.percentile(train_data['Loan_Amount_Term'],50,interpolation='midpoint')\n",
    "Q3=np.percentile(train_data['Loan_Amount_Term'],75,interpolation='midpoint')\n",
    "Q1,Q2,Q3\n",
    "\n",
    "print(train_data['Loan_Amount_Term'].median())\n",
    "\n",
    "IQR=Q3-Q1\n",
    "\n",
    "low_limit=Q1-1.5*IQR\n",
    "up_limit=Q3+1.5*IQR\n",
    "\n",
    "ind1=train_data['Loan_Amount_Term']<low_limit\n",
    "print(train_data['Loan_Amount_Term'].loc[ind1].index)\n",
    "\n",
    "ind2=train_data['Loan_Amount_Term']>up_limit\n",
    "print(train_data['Loan_Amount_Term'].loc[ind2].index)"
   ]
  },
  {
   "cell_type": "code",
   "execution_count": 31,
   "id": "a70af541",
   "metadata": {},
   "outputs": [
    {
     "name": "stderr",
     "output_type": "stream",
     "text": [
      "C:\\Users\\NOHIN JACOB\\AppData\\Local\\Temp\\ipykernel_8684\\2241037285.py:3: SettingWithCopyWarning: \n",
      "A value is trying to be set on a copy of a slice from a DataFrame\n",
      "\n",
      "See the caveats in the documentation: https://pandas.pydata.org/pandas-docs/stable/user_guide/indexing.html#returning-a-view-versus-a-copy\n",
      "  train_data['Loan_Amount_Term'].loc[i]=360.0\n",
      "C:\\Users\\NOHIN JACOB\\AppData\\Local\\Temp\\ipykernel_8684\\2241037285.py:5: SettingWithCopyWarning: \n",
      "A value is trying to be set on a copy of a slice from a DataFrame\n",
      "\n",
      "See the caveats in the documentation: https://pandas.pydata.org/pandas-docs/stable/user_guide/indexing.html#returning-a-view-versus-a-copy\n",
      "  train_data['Loan_Amount_Term'].loc[i]=360.0\n"
     ]
    },
    {
     "name": "stdout",
     "output_type": "stream",
     "text": [
      "Int64Index([], dtype='int64')\n",
      "Int64Index([], dtype='int64')\n"
     ]
    }
   ],
   "source": [
    "#Outlier replaced with median\n",
    "for i in train_data['Loan_Amount_Term'].loc[ind1].index:\n",
    "     train_data['Loan_Amount_Term'].loc[i]=360.0\n",
    "for i in train_data['Loan_Amount_Term'].loc[ind2].index:\n",
    "     train_data['Loan_Amount_Term'].loc[i]=360.0             \n",
    "        \n",
    "ind1=train_data['Loan_Amount_Term']<low_limit\n",
    "print(train_data['Loan_Amount_Term'].loc[ind1].index)\n",
    "\n",
    "ind2=train_data['Loan_Amount_Term']>up_limit\n",
    "print(train_data['Loan_Amount_Term'].loc[ind2].index)\n"
   ]
  },
  {
   "cell_type": "code",
   "execution_count": 32,
   "id": "a9d738aa",
   "metadata": {},
   "outputs": [
    {
     "name": "stdout",
     "output_type": "stream",
     "text": [
      "1.0\n",
      "Int64Index([  7,  17,  20,  22,  23,  36,  48,  54,  62,  63,  64,  66,  69,\n",
      "             73,  78, 108, 112, 122, 128, 138, 150, 155, 162, 168, 177, 179,\n",
      "            180, 186, 201, 211, 218, 220, 250, 254, 256, 267, 280, 291, 293,\n",
      "            300, 307, 325, 326, 338, 346, 353, 358, 367, 373, 387, 396, 399,\n",
      "            400, 408, 409, 412, 414, 421, 423, 431, 438, 448, 450, 452, 453,\n",
      "            464, 466, 471, 477, 486, 494, 499, 517, 527, 532, 541, 548, 550,\n",
      "            553, 554, 564, 567, 569, 571, 576, 584, 589, 597, 613],\n",
      "           dtype='int64')\n",
      "Int64Index([], dtype='int64')\n"
     ]
    }
   ],
   "source": [
    "Q1=np.percentile(train_data['Credit_History'],25,interpolation='midpoint')\n",
    "Q2=np.percentile(train_data['Credit_History'],50,interpolation='midpoint')\n",
    "Q3=np.percentile(train_data['Credit_History'],75,interpolation='midpoint')\n",
    "Q1,Q2,Q3\n",
    "\n",
    "print(train_data['Credit_History'].median())\n",
    "\n",
    "IQR=Q3-Q1\n",
    "\n",
    "low_limit=Q1-1.5*IQR\n",
    "up_limit=Q3+1.5*IQR\n",
    "\n",
    "ind1=train_data['Credit_History']<low_limit\n",
    "print(train_data['Credit_History'].loc[ind1].index)\n",
    "\n",
    "ind2=train_data['Credit_History']>up_limit\n",
    "print(train_data['Credit_History'].loc[ind2].index)"
   ]
  },
  {
   "cell_type": "code",
   "execution_count": 33,
   "id": "aa67ba2e",
   "metadata": {},
   "outputs": [
    {
     "name": "stdout",
     "output_type": "stream",
     "text": [
      "Int64Index([], dtype='int64')\n",
      "Int64Index([], dtype='int64')\n"
     ]
    },
    {
     "name": "stderr",
     "output_type": "stream",
     "text": [
      "C:\\Users\\NOHIN JACOB\\AppData\\Local\\Temp\\ipykernel_8684\\2861450752.py:3: SettingWithCopyWarning: \n",
      "A value is trying to be set on a copy of a slice from a DataFrame\n",
      "\n",
      "See the caveats in the documentation: https://pandas.pydata.org/pandas-docs/stable/user_guide/indexing.html#returning-a-view-versus-a-copy\n",
      "  train_data['Credit_History'].loc[i]=1.0\n"
     ]
    }
   ],
   "source": [
    "#Outlier replaced with median\n",
    "for i in train_data['Credit_History'].loc[ind1].index:\n",
    "     train_data['Credit_History'].loc[i]=1.0\n",
    "        \n",
    "for i in train_data['Credit_History'].loc[ind2].index:\n",
    "     train_data['Credit_History'].loc[i]=1.0\n",
    "             \n",
    "        \n",
    "ind1=train_data['Credit_History']<low_limit\n",
    "print(train_data['Credit_History'].loc[ind1].index)\n",
    "\n",
    "ind2=train_data['Credit_History']>up_limit\n",
    "print(train_data['Credit_History'].loc[ind2].index)"
   ]
  },
  {
   "cell_type": "code",
   "execution_count": 34,
   "id": "5eae59e7",
   "metadata": {},
   "outputs": [],
   "source": [
    "data1=train_data.drop('Loan_ID',axis=1)"
   ]
  },
  {
   "cell_type": "code",
   "execution_count": 71,
   "id": "edb4c3db",
   "metadata": {},
   "outputs": [],
   "source": [
    "#Defining the target and feature columns\n",
    "\n",
    "x_train=data1.drop('Loan_Status',axis=1)\n",
    "y_train=data1['Loan_Status']"
   ]
  },
  {
   "cell_type": "code",
   "execution_count": 73,
   "id": "02dc62b5",
   "metadata": {},
   "outputs": [],
   "source": [
    "x_train=pd.get_dummies(x_train)"
   ]
  },
  {
   "cell_type": "markdown",
   "id": "37f17a4b",
   "metadata": {},
   "source": [
    "# Testing Data-EDA and Preprocessing"
   ]
  },
  {
   "cell_type": "code",
   "execution_count": 37,
   "id": "a22e5fc4",
   "metadata": {},
   "outputs": [
    {
     "data": {
      "text/html": [
       "<div>\n",
       "<style scoped>\n",
       "    .dataframe tbody tr th:only-of-type {\n",
       "        vertical-align: middle;\n",
       "    }\n",
       "\n",
       "    .dataframe tbody tr th {\n",
       "        vertical-align: top;\n",
       "    }\n",
       "\n",
       "    .dataframe thead th {\n",
       "        text-align: right;\n",
       "    }\n",
       "</style>\n",
       "<table border=\"1\" class=\"dataframe\">\n",
       "  <thead>\n",
       "    <tr style=\"text-align: right;\">\n",
       "      <th></th>\n",
       "      <th>Loan_ID</th>\n",
       "      <th>Gender</th>\n",
       "      <th>Married</th>\n",
       "      <th>Dependents</th>\n",
       "      <th>Education</th>\n",
       "      <th>Self_Employed</th>\n",
       "      <th>ApplicantIncome</th>\n",
       "      <th>CoapplicantIncome</th>\n",
       "      <th>LoanAmount</th>\n",
       "      <th>Loan_Amount_Term</th>\n",
       "      <th>Credit_History</th>\n",
       "      <th>Property_Area</th>\n",
       "    </tr>\n",
       "  </thead>\n",
       "  <tbody>\n",
       "    <tr>\n",
       "      <th>0</th>\n",
       "      <td>LP001015</td>\n",
       "      <td>Male</td>\n",
       "      <td>Yes</td>\n",
       "      <td>0</td>\n",
       "      <td>Graduate</td>\n",
       "      <td>No</td>\n",
       "      <td>5720</td>\n",
       "      <td>0</td>\n",
       "      <td>110.0</td>\n",
       "      <td>360.0</td>\n",
       "      <td>1.0</td>\n",
       "      <td>Urban</td>\n",
       "    </tr>\n",
       "    <tr>\n",
       "      <th>1</th>\n",
       "      <td>LP001022</td>\n",
       "      <td>Male</td>\n",
       "      <td>Yes</td>\n",
       "      <td>1</td>\n",
       "      <td>Graduate</td>\n",
       "      <td>No</td>\n",
       "      <td>3076</td>\n",
       "      <td>1500</td>\n",
       "      <td>126.0</td>\n",
       "      <td>360.0</td>\n",
       "      <td>1.0</td>\n",
       "      <td>Urban</td>\n",
       "    </tr>\n",
       "    <tr>\n",
       "      <th>2</th>\n",
       "      <td>LP001031</td>\n",
       "      <td>Male</td>\n",
       "      <td>Yes</td>\n",
       "      <td>2</td>\n",
       "      <td>Graduate</td>\n",
       "      <td>No</td>\n",
       "      <td>5000</td>\n",
       "      <td>1800</td>\n",
       "      <td>208.0</td>\n",
       "      <td>360.0</td>\n",
       "      <td>1.0</td>\n",
       "      <td>Urban</td>\n",
       "    </tr>\n",
       "    <tr>\n",
       "      <th>3</th>\n",
       "      <td>LP001035</td>\n",
       "      <td>Male</td>\n",
       "      <td>Yes</td>\n",
       "      <td>2</td>\n",
       "      <td>Graduate</td>\n",
       "      <td>No</td>\n",
       "      <td>2340</td>\n",
       "      <td>2546</td>\n",
       "      <td>100.0</td>\n",
       "      <td>360.0</td>\n",
       "      <td>NaN</td>\n",
       "      <td>Urban</td>\n",
       "    </tr>\n",
       "    <tr>\n",
       "      <th>4</th>\n",
       "      <td>LP001051</td>\n",
       "      <td>Male</td>\n",
       "      <td>No</td>\n",
       "      <td>0</td>\n",
       "      <td>Not Graduate</td>\n",
       "      <td>No</td>\n",
       "      <td>3276</td>\n",
       "      <td>0</td>\n",
       "      <td>78.0</td>\n",
       "      <td>360.0</td>\n",
       "      <td>1.0</td>\n",
       "      <td>Urban</td>\n",
       "    </tr>\n",
       "  </tbody>\n",
       "</table>\n",
       "</div>"
      ],
      "text/plain": [
       "    Loan_ID Gender Married Dependents     Education Self_Employed  \\\n",
       "0  LP001015   Male     Yes          0      Graduate            No   \n",
       "1  LP001022   Male     Yes          1      Graduate            No   \n",
       "2  LP001031   Male     Yes          2      Graduate            No   \n",
       "3  LP001035   Male     Yes          2      Graduate            No   \n",
       "4  LP001051   Male      No          0  Not Graduate            No   \n",
       "\n",
       "   ApplicantIncome  CoapplicantIncome  LoanAmount  Loan_Amount_Term  \\\n",
       "0             5720                  0       110.0             360.0   \n",
       "1             3076               1500       126.0             360.0   \n",
       "2             5000               1800       208.0             360.0   \n",
       "3             2340               2546       100.0             360.0   \n",
       "4             3276                  0        78.0             360.0   \n",
       "\n",
       "   Credit_History Property_Area  \n",
       "0             1.0         Urban  \n",
       "1             1.0         Urban  \n",
       "2             1.0         Urban  \n",
       "3             NaN         Urban  \n",
       "4             1.0         Urban  "
      ]
     },
     "execution_count": 37,
     "metadata": {},
     "output_type": "execute_result"
    }
   ],
   "source": [
    "test_data=pd.read_csv('test_lAUu6dG.csv')\n",
    "test_data.head()"
   ]
  },
  {
   "cell_type": "code",
   "execution_count": 38,
   "id": "65390da1",
   "metadata": {},
   "outputs": [
    {
     "data": {
      "text/plain": [
       "(367, 12)"
      ]
     },
     "execution_count": 38,
     "metadata": {},
     "output_type": "execute_result"
    }
   ],
   "source": [
    "test_data.shape"
   ]
  },
  {
   "cell_type": "code",
   "execution_count": 39,
   "id": "b6ead91d",
   "metadata": {},
   "outputs": [
    {
     "name": "stdout",
     "output_type": "stream",
     "text": [
      "<class 'pandas.core.frame.DataFrame'>\n",
      "RangeIndex: 367 entries, 0 to 366\n",
      "Data columns (total 12 columns):\n",
      " #   Column             Non-Null Count  Dtype  \n",
      "---  ------             --------------  -----  \n",
      " 0   Loan_ID            367 non-null    object \n",
      " 1   Gender             356 non-null    object \n",
      " 2   Married            367 non-null    object \n",
      " 3   Dependents         357 non-null    object \n",
      " 4   Education          367 non-null    object \n",
      " 5   Self_Employed      344 non-null    object \n",
      " 6   ApplicantIncome    367 non-null    int64  \n",
      " 7   CoapplicantIncome  367 non-null    int64  \n",
      " 8   LoanAmount         362 non-null    float64\n",
      " 9   Loan_Amount_Term   361 non-null    float64\n",
      " 10  Credit_History     338 non-null    float64\n",
      " 11  Property_Area      367 non-null    object \n",
      "dtypes: float64(3), int64(2), object(7)\n",
      "memory usage: 34.5+ KB\n"
     ]
    }
   ],
   "source": [
    "test_data.info()"
   ]
  },
  {
   "cell_type": "code",
   "execution_count": 40,
   "id": "7b51ffd5",
   "metadata": {},
   "outputs": [
    {
     "data": {
      "text/html": [
       "<div>\n",
       "<style scoped>\n",
       "    .dataframe tbody tr th:only-of-type {\n",
       "        vertical-align: middle;\n",
       "    }\n",
       "\n",
       "    .dataframe tbody tr th {\n",
       "        vertical-align: top;\n",
       "    }\n",
       "\n",
       "    .dataframe thead th {\n",
       "        text-align: right;\n",
       "    }\n",
       "</style>\n",
       "<table border=\"1\" class=\"dataframe\">\n",
       "  <thead>\n",
       "    <tr style=\"text-align: right;\">\n",
       "      <th></th>\n",
       "      <th>ApplicantIncome</th>\n",
       "      <th>CoapplicantIncome</th>\n",
       "      <th>LoanAmount</th>\n",
       "      <th>Loan_Amount_Term</th>\n",
       "      <th>Credit_History</th>\n",
       "    </tr>\n",
       "  </thead>\n",
       "  <tbody>\n",
       "    <tr>\n",
       "      <th>count</th>\n",
       "      <td>367.000000</td>\n",
       "      <td>367.000000</td>\n",
       "      <td>362.000000</td>\n",
       "      <td>361.000000</td>\n",
       "      <td>338.000000</td>\n",
       "    </tr>\n",
       "    <tr>\n",
       "      <th>mean</th>\n",
       "      <td>4805.599455</td>\n",
       "      <td>1569.577657</td>\n",
       "      <td>136.132597</td>\n",
       "      <td>342.537396</td>\n",
       "      <td>0.825444</td>\n",
       "    </tr>\n",
       "    <tr>\n",
       "      <th>std</th>\n",
       "      <td>4910.685399</td>\n",
       "      <td>2334.232099</td>\n",
       "      <td>61.366652</td>\n",
       "      <td>65.156643</td>\n",
       "      <td>0.380150</td>\n",
       "    </tr>\n",
       "    <tr>\n",
       "      <th>min</th>\n",
       "      <td>0.000000</td>\n",
       "      <td>0.000000</td>\n",
       "      <td>28.000000</td>\n",
       "      <td>6.000000</td>\n",
       "      <td>0.000000</td>\n",
       "    </tr>\n",
       "    <tr>\n",
       "      <th>25%</th>\n",
       "      <td>2864.000000</td>\n",
       "      <td>0.000000</td>\n",
       "      <td>100.250000</td>\n",
       "      <td>360.000000</td>\n",
       "      <td>1.000000</td>\n",
       "    </tr>\n",
       "    <tr>\n",
       "      <th>50%</th>\n",
       "      <td>3786.000000</td>\n",
       "      <td>1025.000000</td>\n",
       "      <td>125.000000</td>\n",
       "      <td>360.000000</td>\n",
       "      <td>1.000000</td>\n",
       "    </tr>\n",
       "    <tr>\n",
       "      <th>75%</th>\n",
       "      <td>5060.000000</td>\n",
       "      <td>2430.500000</td>\n",
       "      <td>158.000000</td>\n",
       "      <td>360.000000</td>\n",
       "      <td>1.000000</td>\n",
       "    </tr>\n",
       "    <tr>\n",
       "      <th>max</th>\n",
       "      <td>72529.000000</td>\n",
       "      <td>24000.000000</td>\n",
       "      <td>550.000000</td>\n",
       "      <td>480.000000</td>\n",
       "      <td>1.000000</td>\n",
       "    </tr>\n",
       "  </tbody>\n",
       "</table>\n",
       "</div>"
      ],
      "text/plain": [
       "       ApplicantIncome  CoapplicantIncome  LoanAmount  Loan_Amount_Term  \\\n",
       "count       367.000000         367.000000  362.000000        361.000000   \n",
       "mean       4805.599455        1569.577657  136.132597        342.537396   \n",
       "std        4910.685399        2334.232099   61.366652         65.156643   \n",
       "min           0.000000           0.000000   28.000000          6.000000   \n",
       "25%        2864.000000           0.000000  100.250000        360.000000   \n",
       "50%        3786.000000        1025.000000  125.000000        360.000000   \n",
       "75%        5060.000000        2430.500000  158.000000        360.000000   \n",
       "max       72529.000000       24000.000000  550.000000        480.000000   \n",
       "\n",
       "       Credit_History  \n",
       "count      338.000000  \n",
       "mean         0.825444  \n",
       "std          0.380150  \n",
       "min          0.000000  \n",
       "25%          1.000000  \n",
       "50%          1.000000  \n",
       "75%          1.000000  \n",
       "max          1.000000  "
      ]
     },
     "execution_count": 40,
     "metadata": {},
     "output_type": "execute_result"
    }
   ],
   "source": [
    "test_data.describe()"
   ]
  },
  {
   "cell_type": "code",
   "execution_count": 41,
   "id": "340522b7",
   "metadata": {},
   "outputs": [
    {
     "data": {
      "text/plain": [
       "Loan_ID               0\n",
       "Gender               11\n",
       "Married               0\n",
       "Dependents           10\n",
       "Education             0\n",
       "Self_Employed        23\n",
       "ApplicantIncome       0\n",
       "CoapplicantIncome     0\n",
       "LoanAmount            5\n",
       "Loan_Amount_Term      6\n",
       "Credit_History       29\n",
       "Property_Area         0\n",
       "dtype: int64"
      ]
     },
     "execution_count": 41,
     "metadata": {},
     "output_type": "execute_result"
    }
   ],
   "source": [
    "test_data.isna().sum()"
   ]
  },
  {
   "cell_type": "code",
   "execution_count": 42,
   "id": "8d740c87",
   "metadata": {},
   "outputs": [
    {
     "data": {
      "text/plain": [
       "array(['0', '1', '2', '3+', nan], dtype=object)"
      ]
     },
     "execution_count": 42,
     "metadata": {},
     "output_type": "execute_result"
    }
   ],
   "source": [
    "test_data['Dependents'].unique()"
   ]
  },
  {
   "cell_type": "code",
   "execution_count": 43,
   "id": "fdde806b",
   "metadata": {},
   "outputs": [
    {
     "data": {
      "image/png": "[encoded data removed]",
      "text/plain": [
       "<Figure size 1000x800 with 6 Axes>"
      ]
     },
     "metadata": {},
     "output_type": "display_data"
    }
   ],
   "source": [
    "freqgraph=test_data.select_dtypes(include=['float64','int64'])\n",
    "freqgraph.hist(figsize=(10,8))\n",
    "plt.show()"
   ]
  },
  {
   "cell_type": "code",
   "execution_count": 44,
   "id": "2cdb38b5",
   "metadata": {},
   "outputs": [
    {
     "name": "stderr",
     "output_type": "stream",
     "text": [
      "C:\\Users\\NOHIN JACOB\\AppData\\Local\\Temp\\ipykernel_8684\\2938761387.py:3: SettingWithCopyWarning: \n",
      "A value is trying to be set on a copy of a slice from a DataFrame\n",
      "\n",
      "See the caveats in the documentation: https://pandas.pydata.org/pandas-docs/stable/user_guide/indexing.html#returning-a-view-versus-a-copy\n",
      "  test_data['Dependents'].loc[i]='3'\n"
     ]
    },
    {
     "data": {
      "text/plain": [
       "array(['0', '1', '2', '3', nan], dtype=object)"
      ]
     },
     "execution_count": 44,
     "metadata": {},
     "output_type": "execute_result"
    }
   ],
   "source": [
    "ind1=np.where(test_data['Dependents']=='3+')\n",
    "for i in ind1:\n",
    "    test_data['Dependents'].loc[i]='3'\n",
    "        \n",
    "test_data['Dependents'].unique()"
   ]
  },
  {
   "cell_type": "code",
   "execution_count": 45,
   "id": "7de9e0cb",
   "metadata": {},
   "outputs": [
    {
     "data": {
      "text/plain": [
       "array(['0', '1', '2', '3', 0.0], dtype=object)"
      ]
     },
     "execution_count": 45,
     "metadata": {},
     "output_type": "execute_result"
    }
   ],
   "source": [
    "test_data['Dependents']=test_data['Dependents'].fillna(test_data['Dependents'].median())\n",
    "test_data['Dependents'].unique()"
   ]
  },
  {
   "cell_type": "code",
   "execution_count": 46,
   "id": "103c98e5",
   "metadata": {},
   "outputs": [],
   "source": [
    "#Changing the data type to int64 for 'Dependents' column\n",
    "test_data['Dependents']=test_data['Dependents'].astype('int64')"
   ]
  },
  {
   "cell_type": "code",
   "execution_count": 47,
   "id": "c1e3a732",
   "metadata": {},
   "outputs": [],
   "source": [
    "for col in ('LoanAmount','Loan_Amount_Term','Credit_History'):\n",
    "    test_data[col]=test_data[col].fillna(test_data[col].median())"
   ]
  },
  {
   "cell_type": "code",
   "execution_count": 48,
   "id": "723bbca4",
   "metadata": {},
   "outputs": [
    {
     "data": {
      "text/plain": [
       "Loan_ID               0\n",
       "Gender               11\n",
       "Married               0\n",
       "Dependents            0\n",
       "Education             0\n",
       "Self_Employed        23\n",
       "ApplicantIncome       0\n",
       "CoapplicantIncome     0\n",
       "LoanAmount            0\n",
       "Loan_Amount_Term      0\n",
       "Credit_History        0\n",
       "Property_Area         0\n",
       "dtype: int64"
      ]
     },
     "execution_count": 48,
     "metadata": {},
     "output_type": "execute_result"
    }
   ],
   "source": [
    "test_data.isna().sum()"
   ]
  },
  {
   "cell_type": "code",
   "execution_count": 49,
   "id": "333ff580",
   "metadata": {},
   "outputs": [],
   "source": [
    "for col in ('Gender','Self_Employed'):\n",
    "    test_data[col]=test_data[col].fillna(test_data[col].mode)"
   ]
  },
  {
   "cell_type": "code",
   "execution_count": 50,
   "id": "b3884c4e",
   "metadata": {},
   "outputs": [
    {
     "data": {
      "text/plain": [
       "Loan_ID              0\n",
       "Gender               0\n",
       "Married              0\n",
       "Dependents           0\n",
       "Education            0\n",
       "Self_Employed        0\n",
       "ApplicantIncome      0\n",
       "CoapplicantIncome    0\n",
       "LoanAmount           0\n",
       "Loan_Amount_Term     0\n",
       "Credit_History       0\n",
       "Property_Area        0\n",
       "dtype: int64"
      ]
     },
     "execution_count": 50,
     "metadata": {},
     "output_type": "execute_result"
    }
   ],
   "source": [
    "test_data.isna().sum()"
   ]
  },
  {
   "cell_type": "markdown",
   "id": "10de738a",
   "metadata": {},
   "source": [
    "# Outlier Detection"
   ]
  },
  {
   "cell_type": "code",
   "execution_count": 51,
   "id": "7ec4475b",
   "metadata": {},
   "outputs": [
    {
     "data": {
      "text/plain": [
       "(0.0, 0.0, 2.0)"
      ]
     },
     "execution_count": 51,
     "metadata": {},
     "output_type": "execute_result"
    }
   ],
   "source": [
    "# Outlier detection in columns 'Dependents','ApplicantIncome','CoapplicantIncome','LoanAmount','Loan_Amount_Term','Credit_History'\n",
    "Q1=np.percentile(test_data['Dependents'],25,interpolation='midpoint')\n",
    "Q2=np.percentile(test_data['Dependents'],50,interpolation='midpoint')\n",
    "Q3=np.percentile(test_data['Dependents'],75,interpolation='midpoint')\n",
    "Q1,Q2,Q3"
   ]
  },
  {
   "cell_type": "code",
   "execution_count": 52,
   "id": "5158becc",
   "metadata": {},
   "outputs": [
    {
     "name": "stdout",
     "output_type": "stream",
     "text": [
      "0.0\n"
     ]
    }
   ],
   "source": [
    "print(test_data['Dependents'].median())"
   ]
  },
  {
   "cell_type": "code",
   "execution_count": 53,
   "id": "a98d204e",
   "metadata": {},
   "outputs": [
    {
     "name": "stdout",
     "output_type": "stream",
     "text": [
      "Int64Index([], dtype='int64')\n",
      "Int64Index([], dtype='int64')\n"
     ]
    }
   ],
   "source": [
    "IQR=Q3-Q1\n",
    "\n",
    "low_limit=Q1-1.5*IQR\n",
    "up_limit=Q3+1.5*IQR\n",
    "\n",
    "ind1=test_data['Dependents']<low_limit\n",
    "print(test_data['Dependents'].loc[ind1].index)\n",
    "\n",
    "ind2=test_data['Dependents']>up_limit\n",
    "print(test_data['Dependents'].loc[ind2].index)"
   ]
  },
  {
   "cell_type": "code",
   "execution_count": 54,
   "id": "a361f256",
   "metadata": {},
   "outputs": [
    {
     "name": "stdout",
     "output_type": "stream",
     "text": [
      "3786.0\n",
      "Int64Index([], dtype='int64')\n",
      "Int64Index([  8,  13,  18,  81,  83,  91,  98, 124, 143, 144, 145, 147, 179,\n",
      "            184, 187, 188, 194, 200, 230, 247, 263, 272, 279, 283, 284, 285,\n",
      "            302, 323, 331, 350, 360, 366],\n",
      "           dtype='int64')\n"
     ]
    }
   ],
   "source": [
    "Q1=np.percentile(test_data['ApplicantIncome'],25,interpolation='midpoint')\n",
    "Q2=np.percentile(test_data['ApplicantIncome'],50,interpolation='midpoint')\n",
    "Q3=np.percentile(test_data['ApplicantIncome'],75,interpolation='midpoint')\n",
    "Q1,Q2,Q3\n",
    "\n",
    "print(test_data['ApplicantIncome'].median())\n",
    "\n",
    "IQR=Q3-Q1\n",
    "\n",
    "low_limit=Q1-1.5*IQR\n",
    "up_limit=Q3+1.5*IQR\n",
    "\n",
    "ind1=test_data['ApplicantIncome']<low_limit\n",
    "print(test_data['ApplicantIncome'].loc[ind1].index)\n",
    "\n",
    "ind2=test_data['ApplicantIncome']>up_limit\n",
    "print(test_data['ApplicantIncome'].loc[ind2].index)"
   ]
  },
  {
   "cell_type": "code",
   "execution_count": 55,
   "id": "2eaa5779",
   "metadata": {},
   "outputs": [
    {
     "name": "stdout",
     "output_type": "stream",
     "text": [
      "Int64Index([], dtype='int64')\n"
     ]
    },
    {
     "name": "stderr",
     "output_type": "stream",
     "text": [
      "C:\\Users\\NOHIN JACOB\\AppData\\Local\\Temp\\ipykernel_8684\\202792965.py:3: SettingWithCopyWarning: \n",
      "A value is trying to be set on a copy of a slice from a DataFrame\n",
      "\n",
      "See the caveats in the documentation: https://pandas.pydata.org/pandas-docs/stable/user_guide/indexing.html#returning-a-view-versus-a-copy\n",
      "  test_data['ApplicantIncome'].loc[i]=3786.0\n"
     ]
    }
   ],
   "source": [
    "#Outlier replaced with median\n",
    "for i in test_data['ApplicantIncome'].loc[ind2].index:\n",
    "     test_data['ApplicantIncome'].loc[i]=3786.0\n",
    "        \n",
    "ind2=test_data['ApplicantIncome']>up_limit\n",
    "print(test_data['ApplicantIncome'].loc[ind2].index)"
   ]
  },
  {
   "cell_type": "code",
   "execution_count": 56,
   "id": "9af75b61",
   "metadata": {},
   "outputs": [
    {
     "name": "stdout",
     "output_type": "stream",
     "text": [
      "1025.0\n",
      "Int64Index([], dtype='int64')\n",
      "Int64Index([18, 25, 85, 123, 230, 237, 284, 351], dtype='int64')\n"
     ]
    }
   ],
   "source": [
    "Q1=np.percentile(test_data['CoapplicantIncome'],25,interpolation='midpoint')\n",
    "Q2=np.percentile(test_data['CoapplicantIncome'],50,interpolation='midpoint')\n",
    "Q3=np.percentile(test_data['CoapplicantIncome'],75,interpolation='midpoint')\n",
    "Q1,Q2,Q3\n",
    "\n",
    "print(test_data['CoapplicantIncome'].median())\n",
    "\n",
    "IQR=Q3-Q1\n",
    "\n",
    "low_limit=Q1-1.5*IQR\n",
    "up_limit=Q3+1.5*IQR\n",
    "\n",
    "ind1=test_data['CoapplicantIncome']<low_limit\n",
    "print(test_data['CoapplicantIncome'].loc[ind1].index)\n",
    "\n",
    "ind2=test_data['CoapplicantIncome']>up_limit\n",
    "print(test_data['CoapplicantIncome'].loc[ind2].index)"
   ]
  },
  {
   "cell_type": "code",
   "execution_count": 57,
   "id": "c4996deb",
   "metadata": {},
   "outputs": [
    {
     "name": "stdout",
     "output_type": "stream",
     "text": [
      "Int64Index([], dtype='int64')\n"
     ]
    },
    {
     "name": "stderr",
     "output_type": "stream",
     "text": [
      "C:\\Users\\NOHIN JACOB\\AppData\\Local\\Temp\\ipykernel_8684\\3124226674.py:3: SettingWithCopyWarning: \n",
      "A value is trying to be set on a copy of a slice from a DataFrame\n",
      "\n",
      "See the caveats in the documentation: https://pandas.pydata.org/pandas-docs/stable/user_guide/indexing.html#returning-a-view-versus-a-copy\n",
      "  test_data['CoapplicantIncome'].loc[i]=1025.0\n"
     ]
    }
   ],
   "source": [
    "#Outlier replaced with median\n",
    "for i in test_data['CoapplicantIncome'].loc[ind2].index:\n",
    "     test_data['CoapplicantIncome'].loc[i]=1025.0\n",
    "        \n",
    "ind2=test_data['CoapplicantIncome']>up_limit\n",
    "print(test_data['CoapplicantIncome'].loc[ind2].index)"
   ]
  },
  {
   "cell_type": "code",
   "execution_count": 58,
   "id": "b32b33ab",
   "metadata": {},
   "outputs": [
    {
     "name": "stdout",
     "output_type": "stream",
     "text": [
      "125.0\n",
      "Int64Index([], dtype='int64')\n",
      "Int64Index([8, 18, 24, 27, 81, 83, 91, 96, 124, 143, 144, 189, 194, 284, 285,\n",
      "            331, 345, 350],\n",
      "           dtype='int64')\n"
     ]
    }
   ],
   "source": [
    "Q1=np.percentile(test_data['LoanAmount'],25,interpolation='midpoint')\n",
    "Q2=np.percentile(test_data['LoanAmount'],50,interpolation='midpoint')\n",
    "Q3=np.percentile(test_data['LoanAmount'],75,interpolation='midpoint')\n",
    "Q1,Q2,Q3\n",
    "\n",
    "print(test_data['LoanAmount'].median())\n",
    "\n",
    "IQR=Q3-Q1\n",
    "\n",
    "low_limit=Q1-1.5*IQR\n",
    "up_limit=Q3+1.5*IQR\n",
    "\n",
    "ind1=test_data['LoanAmount']<low_limit\n",
    "print(test_data['LoanAmount'].loc[ind1].index)\n",
    "\n",
    "ind2=test_data['LoanAmount']>up_limit\n",
    "print(test_data['LoanAmount'].loc[ind2].index)"
   ]
  },
  {
   "cell_type": "code",
   "execution_count": 59,
   "id": "03d611a3",
   "metadata": {},
   "outputs": [
    {
     "name": "stdout",
     "output_type": "stream",
     "text": [
      "Int64Index([], dtype='int64')\n"
     ]
    },
    {
     "name": "stderr",
     "output_type": "stream",
     "text": [
      "C:\\Users\\NOHIN JACOB\\AppData\\Local\\Temp\\ipykernel_8684\\1400710615.py:3: SettingWithCopyWarning: \n",
      "A value is trying to be set on a copy of a slice from a DataFrame\n",
      "\n",
      "See the caveats in the documentation: https://pandas.pydata.org/pandas-docs/stable/user_guide/indexing.html#returning-a-view-versus-a-copy\n",
      "  test_data['LoanAmount'].loc[i]=125.0\n"
     ]
    }
   ],
   "source": [
    "#Outlier replaced with median\n",
    "for i in test_data['LoanAmount'].loc[ind2].index:\n",
    "     test_data['LoanAmount'].loc[i]=125.0\n",
    "        \n",
    "ind2=test_data['LoanAmount']>up_limit\n",
    "print(test_data['LoanAmount'].loc[ind2].index)"
   ]
  },
  {
   "cell_type": "code",
   "execution_count": 60,
   "id": "a6f255f5",
   "metadata": {},
   "outputs": [
    {
     "name": "stdout",
     "output_type": "stream",
     "text": [
      "360.0\n",
      "Int64Index([  8,  12,  19,  21,  29,  36,  53,  57,  59,  72,  84,  85, 103,\n",
      "            128, 134, 141, 144, 145, 155, 157, 164, 173, 190, 215, 216, 223,\n",
      "            232, 245, 249, 251, 277, 312, 314, 315, 322, 325, 338, 340, 342,\n",
      "            349, 354, 366],\n",
      "           dtype='int64')\n",
      "Int64Index([82, 101, 200, 222, 239, 250, 266, 295], dtype='int64')\n"
     ]
    }
   ],
   "source": [
    "Q1=np.percentile(test_data['Loan_Amount_Term'],25,interpolation='midpoint')\n",
    "Q2=np.percentile(test_data['Loan_Amount_Term'],50,interpolation='midpoint')\n",
    "Q3=np.percentile(test_data['Loan_Amount_Term'],75,interpolation='midpoint')\n",
    "Q1,Q2,Q3\n",
    "\n",
    "print(test_data['Loan_Amount_Term'].median())\n",
    "\n",
    "IQR=Q3-Q1\n",
    "\n",
    "low_limit=Q1-1.5*IQR\n",
    "up_limit=Q3+1.5*IQR\n",
    "\n",
    "ind1=test_data['Loan_Amount_Term']<low_limit\n",
    "print(test_data['Loan_Amount_Term'].loc[ind1].index)\n",
    "\n",
    "ind2=test_data['Loan_Amount_Term']>up_limit\n",
    "print(test_data['Loan_Amount_Term'].loc[ind2].index)"
   ]
  },
  {
   "cell_type": "code",
   "execution_count": 61,
   "id": "df466b6c",
   "metadata": {},
   "outputs": [
    {
     "name": "stdout",
     "output_type": "stream",
     "text": [
      "Int64Index([], dtype='int64')\n",
      "Int64Index([], dtype='int64')\n"
     ]
    },
    {
     "name": "stderr",
     "output_type": "stream",
     "text": [
      "C:\\Users\\NOHIN JACOB\\AppData\\Local\\Temp\\ipykernel_8684\\3397094975.py:3: SettingWithCopyWarning: \n",
      "A value is trying to be set on a copy of a slice from a DataFrame\n",
      "\n",
      "See the caveats in the documentation: https://pandas.pydata.org/pandas-docs/stable/user_guide/indexing.html#returning-a-view-versus-a-copy\n",
      "  test_data['Loan_Amount_Term'].loc[i]=360.0\n",
      "C:\\Users\\NOHIN JACOB\\AppData\\Local\\Temp\\ipykernel_8684\\3397094975.py:5: SettingWithCopyWarning: \n",
      "A value is trying to be set on a copy of a slice from a DataFrame\n",
      "\n",
      "See the caveats in the documentation: https://pandas.pydata.org/pandas-docs/stable/user_guide/indexing.html#returning-a-view-versus-a-copy\n",
      "  test_data['Loan_Amount_Term'].loc[i]=360.0\n"
     ]
    }
   ],
   "source": [
    "#Outlier replaced with median\n",
    "for i in test_data['Loan_Amount_Term'].loc[ind1].index:\n",
    "     test_data['Loan_Amount_Term'].loc[i]=360.0\n",
    "for i in test_data['Loan_Amount_Term'].loc[ind2].index:\n",
    "     test_data['Loan_Amount_Term'].loc[i]=360.0             \n",
    "        \n",
    "ind1=test_data['Loan_Amount_Term']<low_limit\n",
    "print(test_data['Loan_Amount_Term'].loc[ind1].index)\n",
    "\n",
    "ind2=test_data['Loan_Amount_Term']>up_limit\n",
    "print(test_data['Loan_Amount_Term'].loc[ind2].index)"
   ]
  },
  {
   "cell_type": "code",
   "execution_count": 62,
   "id": "aa2f91ff",
   "metadata": {},
   "outputs": [
    {
     "name": "stdout",
     "output_type": "stream",
     "text": [
      "1.0\n",
      "Int64Index([  7,  13,  25,  35,  55,  58,  63,  66,  67,  69,  80,  82,  84,\n",
      "             94, 101, 106, 117, 118, 119, 123, 124, 126, 140, 142, 147, 153,\n",
      "            161, 165, 166, 168, 173, 174, 192, 193, 196, 198, 211, 224, 229,\n",
      "            235, 236, 241, 243, 245, 250, 255, 266, 268, 273, 274, 278, 293,\n",
      "            301, 311, 317, 325, 339, 346, 354],\n",
      "           dtype='int64')\n",
      "Int64Index([], dtype='int64')\n"
     ]
    }
   ],
   "source": [
    "Q1=np.percentile(test_data['Credit_History'],25,interpolation='midpoint')\n",
    "Q2=np.percentile(test_data['Credit_History'],50,interpolation='midpoint')\n",
    "Q3=np.percentile(test_data['Credit_History'],75,interpolation='midpoint')\n",
    "Q1,Q2,Q3\n",
    "\n",
    "print(test_data['Credit_History'].median())\n",
    "\n",
    "IQR=Q3-Q1\n",
    "\n",
    "low_limit=Q1-1.5*IQR\n",
    "up_limit=Q3+1.5*IQR\n",
    "\n",
    "ind1=test_data['Credit_History']<low_limit\n",
    "print(test_data['Credit_History'].loc[ind1].index)\n",
    "\n",
    "ind2=test_data['Credit_History']>up_limit\n",
    "print(test_data['Credit_History'].loc[ind2].index)"
   ]
  },
  {
   "cell_type": "code",
   "execution_count": 63,
   "id": "124014cc",
   "metadata": {},
   "outputs": [
    {
     "name": "stdout",
     "output_type": "stream",
     "text": [
      "Int64Index([], dtype='int64')\n"
     ]
    },
    {
     "name": "stderr",
     "output_type": "stream",
     "text": [
      "C:\\Users\\NOHIN JACOB\\AppData\\Local\\Temp\\ipykernel_8684\\1338970515.py:3: SettingWithCopyWarning: \n",
      "A value is trying to be set on a copy of a slice from a DataFrame\n",
      "\n",
      "See the caveats in the documentation: https://pandas.pydata.org/pandas-docs/stable/user_guide/indexing.html#returning-a-view-versus-a-copy\n",
      "  test_data['Credit_History'].loc[i]=1.0\n"
     ]
    }
   ],
   "source": [
    "#Outlier replaced with median\n",
    "for i in test_data['Credit_History'].loc[ind1].index:\n",
    "     test_data['Credit_History'].loc[i]=1.0\n",
    "\n",
    "             \n",
    "        \n",
    "ind1=test_data['Credit_History']<low_limit\n",
    "print(test_data['Credit_History'].loc[ind1].index)\n"
   ]
  },
  {
   "cell_type": "code",
   "execution_count": 68,
   "id": "0ec2afe4",
   "metadata": {},
   "outputs": [],
   "source": [
    "data2=test_data.drop('Loan_ID',axis=1)\n"
   ]
  },
  {
   "cell_type": "code",
   "execution_count": 65,
   "id": "24d1e082",
   "metadata": {},
   "outputs": [],
   "source": [
    "#Defining the feature columns\n",
    "\n",
    "x_test=data2\n",
    "x_test=pd.get_dummies(x_test)"
   ]
  },
  {
   "cell_type": "markdown",
   "id": "96ae5166",
   "metadata": {},
   "source": [
    "# Linear Regression"
   ]
  },
  {
   "cell_type": "code",
   "execution_count": null,
   "id": "4903fb6f",
   "metadata": {},
   "outputs": [],
   "source": [
    "from sklearn.linear_model import LogisticRegression\n",
    "lr=LogisticRegression()\n",
    "model=lr.fit(x_train,y_train)\n",
    "y_pred=model.predict(x_test)"
   ]
  }
 ],
 "metadata": {
  "kernelspec": {
   "display_name": "Python 3 (ipykernel)",
   "language": "python",
   "name": "python3"
  },
  "language_info": {
   "codemirror_mode": {
    "name": "ipython",
    "version": 3
   },
   "file_extension": ".py",
   "mimetype": "text/x-python",
   "name": "python",
   "nbconvert_exporter": "python",
   "pygments_lexer": "ipython3",
   "version": "3.9.13"
  }
 },
 "nbformat": 4,
 "nbformat_minor": 5
}
